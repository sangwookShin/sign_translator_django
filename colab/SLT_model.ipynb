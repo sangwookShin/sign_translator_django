{
  "nbformat": 4,
  "nbformat_minor": 0,
  "metadata": {
    "colab": {
      "name": "LSTM_all_in_one.ipynb",
      "provenance": [],
      "collapsed_sections": [],
      "toc_visible": true,
      "machine_shape": "hm"
    },
    "kernelspec": {
      "name": "python3",
      "display_name": "Python 3"
    },
    "accelerator": "GPU"
  },
  "cells": [
    {
      "cell_type": "code",
      "metadata": {
        "id": "Xz5QczFP0p8-",
        "colab_type": "code",
        "outputId": "45c27852-98a8-4a0a-9487-a0e23591bcb1",
        "colab": {
          "base_uri": "https://localhost:8080/",
          "height": 125
        }
      },
      "source": [
        "from google.colab import drive\n",
        "drive.mount('/content/drive')"
      ],
      "execution_count": 1,
      "outputs": [
        {
          "output_type": "stream",
          "text": [
            "Go to this URL in a browser: https://accounts.google.com/o/oauth2/auth?client_id=947318989803-6bn6qk8qdgf4n4g3pfee6491hc0brc4i.apps.googleusercontent.com&redirect_uri=urn%3aietf%3awg%3aoauth%3a2.0%3aoob&response_type=code&scope=email%20https%3a%2f%2fwww.googleapis.com%2fauth%2fdocs.test%20https%3a%2f%2fwww.googleapis.com%2fauth%2fdrive%20https%3a%2f%2fwww.googleapis.com%2fauth%2fdrive.photos.readonly%20https%3a%2f%2fwww.googleapis.com%2fauth%2fpeopleapi.readonly\n",
            "\n",
            "Enter your authorization code:\n",
            "··········\n",
            "Mounted at /content/drive\n"
          ],
          "name": "stdout"
        }
      ]
    },
    {
      "cell_type": "code",
      "metadata": {
        "id": "7dbYVdnmj6Ag",
        "colab_type": "code",
        "outputId": "57579071-8c29-4b89-e3b5-fd1416a64b81",
        "colab": {
          "base_uri": "https://localhost:8080/",
          "height": 90
        }
      },
      "source": [
        "import numpy as np\n",
        "import pandas as pd\n",
        "from sklearn import metrics\n",
        "import keras\n",
        "from keras import optimizers\n",
        "\n",
        "from sklearn.preprocessing import MinMaxScaler, StandardScaler\n",
        "from sklearn.externals import joblib\n",
        "\n",
        "from sys import path\n",
        "path.insert(0, '/content/drive/My Drive/Capstone/library')\n",
        "\n",
        "from preprocessing import delete_face\n",
        "from preprocessing import split_in_blocks\n",
        "import normalization\n",
        "import augmentation\n",
        "from get_data import get_y\n",
        "import SLT_model"
      ],
      "execution_count": 1,
      "outputs": [
        {
          "output_type": "stream",
          "text": [
            "Using TensorFlow backend.\n",
            "/usr/local/lib/python3.6/dist-packages/sklearn/externals/joblib/__init__.py:15: FutureWarning: sklearn.externals.joblib is deprecated in 0.21 and will be removed in 0.23. Please import this functionality directly from joblib, which can be installed with: pip install joblib. If this warning is raised when loading pickled models, you may need to re-serialize those models with scikit-learn 0.21+.\n",
            "  warnings.warn(msg, category=FutureWarning)\n"
          ],
          "name": "stderr"
        }
      ]
    },
    {
      "cell_type": "code",
      "metadata": {
        "id": "tXaRrP6Q8x7s",
        "colab_type": "code",
        "colab": {}
      },
      "source": [
        "# Useful Constants\n",
        "\n",
        "n_steps = 50\n",
        "\n",
        "augmentation_amount = 20\n",
        "\n",
        "normalization_method = \"wh\"\n",
        "\n",
        "without_face = True\n",
        "\n",
        "X_train_path = \"/content/drive/My Drive/Capstone/csv3/og/X_train_og.csv\"\n",
        "X_test_path = \"/content/drive/My Drive/Capstone/csv3/og/X_test_og.csv\"\n",
        "\n",
        "Y_train_path = \"/content/drive/My Drive/Capstone/csv3/og/Y_train_amount.csv\"\n",
        "Y_test_path = \"/content/drive/My Drive/Capstone/csv3/og/Y_test_amount.csv\""
      ],
      "execution_count": 0,
      "outputs": []
    },
    {
      "cell_type": "code",
      "metadata": {
        "id": "M2f7HkdILC0k",
        "colab_type": "code",
        "colab": {}
      },
      "source": [
        "X_train = pd.read_csv(X_train_path, header=None)\n",
        "X_test = pd.read_csv(X_test_path, header=None)\n",
        "\n",
        "\n",
        "col_list = [\"file\", \"type\", \"file_name\", \"amount\", \"cumulative_sum\"]\n",
        "Y_train = pd.read_csv(Y_train_path, usecols=col_list)\n",
        "Y_test = pd.read_csv(Y_test_path, usecols=col_list)"
      ],
      "execution_count": 0,
      "outputs": []
    },
    {
      "cell_type": "markdown",
      "metadata": {
        "id": "Xd9zTWo2J-Wl",
        "colab_type": "text"
      },
      "source": [
        "##Without face?"
      ]
    },
    {
      "cell_type": "code",
      "metadata": {
        "id": "ktP-giTgJg8x",
        "colab_type": "code",
        "colab": {}
      },
      "source": [
        "if without_face:\n",
        "  X_train = delete_face(X_train.values.tolist())\n",
        "  X_test = delete_face(X_test.values.tolist())"
      ],
      "execution_count": 0,
      "outputs": []
    },
    {
      "cell_type": "markdown",
      "metadata": {
        "id": "RxB4Tgh89YqE",
        "colab_type": "text"
      },
      "source": [
        "##Normalization"
      ]
    },
    {
      "cell_type": "code",
      "metadata": {
        "id": "bI9Etol8JJks",
        "colab_type": "code",
        "colab": {}
      },
      "source": [
        "X_train, X_test = normalization.wh_method(X_train, X_test, without_face)"
      ],
      "execution_count": 0,
      "outputs": []
    },
    {
      "cell_type": "markdown",
      "metadata": {
        "id": "9Xd5ZnOJ-xnr",
        "colab_type": "text"
      },
      "source": [
        "##Frame skip augmentation"
      ]
    },
    {
      "cell_type": "code",
      "metadata": {
        "id": "8E8v_OysJKO7",
        "colab_type": "code",
        "colab": {
          "base_uri": "https://localhost:8080/",
          "height": 1000
        },
        "outputId": "97782853-e195-487b-f597-a0b3d829855a"
      },
      "source": [
        "Y = augmentation.get_augment_index(Y_train, augmentation_amount-1, n_steps)\n",
        "X_np_train = augmentation.index_to_list(X_train.values.tolist(), Y, n_steps)\n",
        "\n",
        "Y = augmentation.get_augment_index(Y_test, augmentation_amount-1, n_steps)\n",
        "X_np_test = augmentation.index_to_list(X_test.values.tolist(), Y, n_steps)"
      ],
      "execution_count": 7,
      "outputs": [
        {
          "output_type": "stream",
          "text": [
            "90 th video : hit the limit!\n",
            "220 th video : hit the limit!\n",
            "237 th video : hit the limit!\n",
            "245 th video : hit the limit!\n",
            "250 th video : hit the limit!\n",
            "293 th video : hit the limit!\n",
            "298 th video : hit the limit!\n",
            "325 th video : hit the limit!\n",
            "329 th video : hit the limit!\n",
            "419 th video : hit the limit!\n",
            "454 th video : hit the limit!\n",
            "464 th video : hit the limit!\n",
            "493 th video : hit the limit!\n",
            "705 th video : hit the limit!\n",
            "709 th video : hit the limit!\n",
            "729 th video : hit the limit!\n",
            "753 th video : hit the limit!\n",
            "816 th video : hit the limit!\n",
            "853 th video : hit the limit!\n",
            "859 th video : hit the limit!\n",
            "882 th video : hit the limit!\n",
            "982 th video : hit the limit!\n",
            "1016 th video : hit the limit!\n",
            "less than  50 !\n",
            "94 43\n",
            "94 baseline error! 21\n",
            "these indexes will be added [8, 12, 21, 30, 33, 36, 38]\n",
            "result :  [8298 8299 8300 8301 8302 8303 8304 8305 8306 8306 8307 8308 8309 8309\n",
            " 8310 8311 8312 8313 8314 8315 8316 8317 8317 8318 8319 8320 8321 8322\n",
            " 8323 8324 8325 8325 8326 8327 8327 8328 8329 8329 8330 8330 8331 8332\n",
            " 8333 8334 8335 8336 8337 8338 8339 8340]\n",
            "these indexes will be added [0, 9, 12, 24, 32, 34, 35]\n",
            "result :  [8298 8298 8299 8300 8301 8302 8303 8304 8305 8306 8306 8307 8308 8308\n",
            " 8309 8310 8311 8312 8313 8314 8315 8316 8317 8318 8319 8319 8320 8321\n",
            " 8322 8323 8324 8325 8326 8326 8327 8327 8327 8328 8329 8330 8331 8332\n",
            " 8333 8334 8335 8336 8337 8338 8339 8340]\n",
            "these indexes will be added [2, 8, 17, 21, 36, 40, 42]\n",
            "result :  [8298 8299 8300 8300 8301 8302 8303 8304 8305 8305 8306 8307 8308 8309\n",
            " 8310 8311 8312 8313 8313 8314 8315 8316 8316 8317 8318 8319 8320 8321\n",
            " 8322 8323 8324 8325 8326 8327 8328 8329 8330 8330 8331 8332 8333 8333\n",
            " 8334 8334 8335 8336 8337 8338 8339 8340]\n",
            "these indexes will be added [1, 3, 6, 8, 10, 12, 30]\n",
            "result :  [8298 8299 8299 8300 8300 8301 8302 8302 8303 8303 8304 8304 8305 8305\n",
            " 8306 8307 8308 8309 8310 8311 8312 8313 8314 8315 8316 8317 8318 8319\n",
            " 8320 8321 8322 8322 8323 8324 8325 8326 8327 8328 8329 8330 8331 8332\n",
            " 8333 8334 8335 8336 8337 8338 8339 8340]\n",
            "these indexes will be added [1, 12, 18, 25, 34, 35, 42]\n",
            "result :  [8298 8299 8299 8300 8301 8302 8303 8304 8305 8306 8307 8308 8309 8309\n",
            " 8310 8311 8312 8313 8314 8314 8315 8316 8317 8318 8319 8320 8320 8321\n",
            " 8322 8323 8324 8325 8326 8327 8328 8328 8328 8329 8330 8331 8332 8333\n",
            " 8334 8334 8335 8336 8337 8338 8339 8340]\n",
            "these indexes will be added [1, 4, 9, 20, 22, 28, 30]\n",
            "result :  [8298 8299 8299 8300 8301 8301 8302 8303 8304 8305 8305 8306 8307 8308\n",
            " 8309 8310 8311 8312 8313 8314 8315 8315 8316 8316 8317 8318 8319 8320\n",
            " 8321 8321 8322 8322 8323 8324 8325 8326 8327 8328 8329 8330 8331 8332\n",
            " 8333 8334 8335 8336 8337 8338 8339 8340]\n",
            "these indexes will be added [10, 12, 16, 18, 24, 28, 29]\n",
            "result :  [8298 8299 8300 8301 8302 8303 8304 8305 8306 8307 8308 8308 8309 8309\n",
            " 8310 8311 8312 8312 8313 8313 8314 8315 8316 8317 8318 8318 8319 8320\n",
            " 8321 8321 8321 8322 8323 8324 8325 8326 8327 8328 8329 8330 8331 8332\n",
            " 8333 8334 8335 8336 8337 8338 8339 8340]\n",
            "these indexes will be added [9, 14, 22, 26, 33, 35, 40]\n",
            "result :  [8298 8299 8300 8301 8302 8303 8304 8305 8306 8307 8307 8308 8309 8310\n",
            " 8311 8311 8312 8313 8314 8315 8316 8317 8318 8318 8319 8320 8321 8321\n",
            " 8322 8323 8324 8325 8326 8327 8327 8328 8328 8329 8330 8331 8332 8332\n",
            " 8333 8334 8335 8336 8337 8338 8339 8340]\n",
            "these indexes will be added [10, 12, 13, 16, 18, 34, 42]\n",
            "result :  [8298 8299 8300 8301 8302 8303 8304 8305 8306 8307 8308 8308 8309 8309\n",
            " 8309 8310 8311 8311 8312 8312 8313 8314 8315 8316 8317 8318 8319 8320\n",
            " 8321 8322 8323 8324 8325 8326 8327 8327 8328 8329 8330 8331 8332 8333\n",
            " 8334 8334 8335 8336 8337 8338 8339 8340]\n",
            "these indexes will be added [4, 9, 13, 18, 29, 33, 35]\n",
            "result :  [8298 8299 8300 8301 8302 8302 8303 8304 8305 8306 8306 8307 8308 8309\n",
            " 8309 8310 8311 8312 8313 8313 8314 8315 8316 8317 8318 8319 8320 8321\n",
            " 8322 8323 8323 8324 8325 8326 8326 8327 8327 8328 8329 8330 8331 8332\n",
            " 8333 8334 8335 8336 8337 8338 8339 8340]\n",
            "these indexes will be added [3, 7, 8, 18, 20, 33, 39]\n",
            "result :  [8298 8299 8300 8301 8301 8302 8303 8304 8304 8304 8305 8306 8307 8308\n",
            " 8309 8310 8311 8312 8313 8313 8314 8314 8315 8316 8317 8318 8319 8320\n",
            " 8321 8322 8323 8324 8325 8326 8326 8327 8328 8329 8330 8331 8331 8332\n",
            " 8333 8334 8335 8336 8337 8338 8339 8340]\n",
            "these indexes will be added [0, 2, 3, 8, 13, 25, 40]\n",
            "result :  [8298 8298 8299 8299 8299 8300 8301 8302 8303 8303 8304 8305 8306 8307\n",
            " 8307 8308 8309 8310 8311 8312 8313 8314 8315 8316 8317 8318 8318 8319\n",
            " 8320 8321 8322 8323 8324 8325 8326 8327 8328 8329 8330 8331 8332 8332\n",
            " 8333 8334 8335 8336 8337 8338 8339 8340]\n",
            "these indexes will be added [4, 5, 15, 28, 36, 39, 42]\n",
            "result :  [8298 8299 8300 8301 8302 8302 8302 8303 8304 8305 8306 8307 8308 8309\n",
            " 8310 8311 8311 8312 8313 8314 8315 8316 8317 8318 8319 8320 8321 8322\n",
            " 8323 8323 8324 8325 8326 8327 8328 8329 8330 8330 8331 8332 8332 8333\n",
            " 8334 8334 8335 8336 8337 8338 8339 8340]\n",
            "these indexes will be added [2, 4, 7, 15, 21, 37, 40]\n",
            "result :  [8298 8299 8300 8300 8301 8301 8302 8303 8303 8304 8305 8306 8307 8308\n",
            " 8309 8310 8310 8311 8312 8313 8314 8315 8315 8316 8317 8318 8319 8320\n",
            " 8321 8322 8323 8324 8325 8326 8327 8328 8329 8330 8330 8331 8332 8332\n",
            " 8333 8334 8335 8336 8337 8338 8339 8340]\n",
            "these indexes will be added [16, 18, 22, 28, 30, 36, 38]\n",
            "result :  [8298 8299 8300 8301 8302 8303 8304 8305 8306 8307 8308 8309 8310 8311\n",
            " 8312 8313 8314 8314 8315 8315 8316 8317 8318 8318 8319 8320 8321 8322\n",
            " 8323 8323 8324 8324 8325 8326 8327 8328 8329 8329 8330 8330 8331 8332\n",
            " 8333 8334 8335 8336 8337 8338 8339 8340]\n",
            "these indexes will be added [1, 6, 17, 24, 28, 32, 39]\n",
            "result :  [8298 8299 8299 8300 8301 8302 8303 8303 8304 8305 8306 8307 8308 8309\n",
            " 8310 8311 8312 8313 8313 8314 8315 8316 8317 8318 8319 8319 8320 8321\n",
            " 8322 8322 8323 8324 8325 8325 8326 8327 8328 8329 8330 8331 8331 8332\n",
            " 8333 8334 8335 8336 8337 8338 8339 8340]\n",
            "these indexes will be added [1, 18, 19, 20, 32, 37, 41]\n",
            "result :  [8298 8299 8299 8300 8301 8302 8303 8304 8305 8306 8307 8308 8309 8310\n",
            " 8311 8312 8313 8314 8315 8315 8315 8315 8316 8317 8318 8319 8320 8321\n",
            " 8322 8323 8324 8325 8326 8326 8327 8328 8329 8330 8330 8331 8332 8333\n",
            " 8333 8334 8335 8336 8337 8338 8339 8340]\n",
            "these indexes will be added [0, 2, 9, 14, 25, 26, 27]\n",
            "result :  [8298 8298 8299 8299 8300 8301 8302 8303 8304 8305 8305 8306 8307 8308\n",
            " 8309 8309 8310 8311 8312 8313 8314 8315 8316 8317 8318 8319 8319 8319\n",
            " 8319 8320 8321 8322 8323 8324 8325 8326 8327 8328 8329 8330 8331 8332\n",
            " 8333 8334 8335 8336 8337 8338 8339 8340]\n",
            "these indexes will be added [2, 3, 4, 13, 14, 20, 39]\n",
            "result :  [8298 8299 8300 8300 8300 8300 8301 8302 8303 8304 8305 8306 8307 8308\n",
            " 8308 8308 8309 8310 8311 8312 8313 8313 8314 8315 8316 8317 8318 8319\n",
            " 8320 8321 8322 8323 8324 8325 8326 8327 8328 8329 8330 8331 8331 8332\n",
            " 8333 8334 8335 8336 8337 8338 8339 8340]\n",
            "less than  50 !\n",
            "95 44\n",
            "95 baseline error! 22\n",
            "these indexes will be added [12, 13, 21, 22, 33, 37]\n",
            "result :  [8341 8342 8343 8344 8345 8346 8347 8348 8349 8350 8351 8352 8353 8353\n",
            " 8353 8354 8355 8356 8357 8358 8359 8360 8360 8360 8361 8362 8363 8364\n",
            " 8365 8366 8367 8368 8369 8370 8370 8371 8372 8373 8373 8374 8375 8376\n",
            " 8377 8378 8379 8380 8381 8382 8383 8384]\n",
            "these indexes will be added [4, 7, 8, 9, 24, 33]\n",
            "result :  [8341 8342 8343 8344 8345 8345 8346 8347 8347 8347 8347 8348 8349 8350\n",
            " 8351 8352 8353 8354 8355 8356 8357 8358 8359 8360 8361 8361 8362 8363\n",
            " 8364 8365 8366 8367 8368 8369 8369 8370 8371 8372 8373 8374 8375 8376\n",
            " 8377 8378 8379 8380 8381 8382 8383 8384]\n",
            "these indexes will be added [0, 15, 16, 17, 19, 28]\n",
            "result :  [8341 8341 8342 8343 8344 8345 8346 8347 8348 8349 8350 8351 8352 8353\n",
            " 8354 8355 8355 8355 8355 8356 8356 8357 8358 8359 8360 8361 8362 8363\n",
            " 8364 8364 8365 8366 8367 8368 8369 8370 8371 8372 8373 8374 8375 8376\n",
            " 8377 8378 8379 8380 8381 8382 8383 8384]\n",
            "these indexes will be added [28, 30, 34, 36, 37, 43]\n",
            "result :  [8341 8342 8343 8344 8345 8346 8347 8348 8349 8350 8351 8352 8353 8354\n",
            " 8355 8356 8357 8358 8359 8360 8361 8362 8363 8364 8365 8366 8367 8368\n",
            " 8369 8369 8370 8370 8371 8372 8373 8373 8374 8374 8374 8375 8376 8377\n",
            " 8378 8379 8379 8380 8381 8382 8383 8384]\n",
            "these indexes will be added [1, 9, 13, 26, 30, 38]\n",
            "result :  [8341 8342 8342 8343 8344 8345 8346 8347 8348 8349 8349 8350 8351 8352\n",
            " 8352 8353 8354 8355 8356 8357 8358 8359 8360 8361 8362 8363 8364 8364\n",
            " 8365 8366 8367 8367 8368 8369 8370 8371 8372 8373 8374 8374 8375 8376\n",
            " 8377 8378 8379 8380 8381 8382 8383 8384]\n",
            "these indexes will be added [5, 6, 10, 12, 13, 34]\n",
            "result :  [8341 8342 8343 8344 8345 8346 8346 8346 8347 8348 8349 8349 8350 8350\n",
            " 8350 8351 8352 8353 8354 8355 8356 8357 8358 8359 8360 8361 8362 8363\n",
            " 8364 8365 8366 8367 8368 8369 8370 8370 8371 8372 8373 8374 8375 8376\n",
            " 8377 8378 8379 8380 8381 8382 8383 8384]\n",
            "these indexes will be added [4, 15, 17, 20, 27, 39]\n",
            "result :  [8341 8342 8343 8344 8345 8345 8346 8347 8348 8349 8350 8351 8352 8353\n",
            " 8354 8355 8355 8356 8356 8357 8358 8358 8359 8360 8361 8362 8363 8364\n",
            " 8364 8365 8366 8367 8368 8369 8370 8371 8372 8373 8374 8375 8375 8376\n",
            " 8377 8378 8379 8380 8381 8382 8383 8384]\n",
            "these indexes will be added [5, 9, 19, 21, 28, 36]\n",
            "result :  [8341 8342 8343 8344 8345 8346 8346 8347 8348 8349 8349 8350 8351 8352\n",
            " 8353 8354 8355 8356 8357 8358 8358 8359 8359 8360 8361 8362 8363 8364\n",
            " 8365 8365 8366 8367 8368 8369 8370 8371 8372 8372 8373 8374 8375 8376\n",
            " 8377 8378 8379 8380 8381 8382 8383 8384]\n",
            "these indexes will be added [6, 9, 13, 22, 36, 43]\n",
            "result :  [8341 8342 8343 8344 8345 8346 8347 8347 8348 8349 8349 8350 8351 8352\n",
            " 8352 8353 8354 8355 8356 8357 8358 8359 8360 8360 8361 8362 8363 8364\n",
            " 8365 8366 8367 8368 8369 8370 8371 8372 8373 8373 8374 8375 8376 8377\n",
            " 8378 8379 8379 8380 8381 8382 8383 8384]\n",
            "these indexes will be added [1, 17, 22, 23, 34, 38]\n",
            "result :  [8341 8342 8342 8343 8344 8345 8346 8347 8348 8349 8350 8351 8352 8353\n",
            " 8354 8355 8356 8357 8357 8358 8359 8360 8361 8361 8361 8362 8363 8364\n",
            " 8365 8366 8367 8368 8369 8370 8371 8371 8372 8373 8374 8374 8375 8376\n",
            " 8377 8378 8379 8380 8381 8382 8383 8384]\n",
            "these indexes will be added [3, 18, 22, 24, 33, 39]\n",
            "result :  [8341 8342 8343 8344 8344 8345 8346 8347 8348 8349 8350 8351 8352 8353\n",
            " 8354 8355 8356 8357 8358 8358 8359 8360 8361 8361 8362 8362 8363 8364\n",
            " 8365 8366 8367 8368 8369 8370 8370 8371 8372 8373 8374 8375 8375 8376\n",
            " 8377 8378 8379 8380 8381 8382 8383 8384]\n",
            "these indexes will be added [1, 4, 7, 30, 37, 38]\n",
            "result :  [8341 8342 8342 8343 8344 8344 8345 8346 8346 8347 8348 8349 8350 8351\n",
            " 8352 8353 8354 8355 8356 8357 8358 8359 8360 8361 8362 8363 8364 8365\n",
            " 8366 8367 8368 8368 8369 8370 8371 8372 8373 8374 8374 8374 8375 8376\n",
            " 8377 8378 8379 8380 8381 8382 8383 8384]\n",
            "these indexes will be added [2, 20, 21, 28, 29, 35]\n",
            "result :  [8341 8342 8343 8343 8344 8345 8346 8347 8348 8349 8350 8351 8352 8353\n",
            " 8354 8355 8356 8357 8358 8359 8360 8360 8360 8361 8362 8363 8364 8365\n",
            " 8366 8366 8366 8367 8368 8369 8370 8371 8371 8372 8373 8374 8375 8376\n",
            " 8377 8378 8379 8380 8381 8382 8383 8384]\n",
            "these indexes will be added [2, 11, 13, 18, 32, 36]\n",
            "result :  [8341 8342 8343 8343 8344 8345 8346 8347 8348 8349 8350 8351 8351 8352\n",
            " 8352 8353 8354 8355 8356 8356 8357 8358 8359 8360 8361 8362 8363 8364\n",
            " 8365 8366 8367 8368 8369 8369 8370 8371 8372 8372 8373 8374 8375 8376\n",
            " 8377 8378 8379 8380 8381 8382 8383 8384]\n",
            "these indexes will be added [14, 17, 18, 27, 29, 34]\n",
            "result :  [8341 8342 8343 8344 8345 8346 8347 8348 8349 8350 8351 8352 8353 8354\n",
            " 8355 8355 8356 8357 8357 8357 8358 8359 8360 8361 8362 8363 8364 8365\n",
            " 8365 8366 8366 8367 8368 8369 8370 8370 8371 8372 8373 8374 8375 8376\n",
            " 8377 8378 8379 8380 8381 8382 8383 8384]\n",
            "these indexes will be added [1, 4, 6, 8, 27, 41]\n",
            "result :  [8341 8342 8342 8343 8344 8344 8345 8345 8346 8346 8347 8348 8349 8350\n",
            " 8351 8352 8353 8354 8355 8356 8357 8358 8359 8360 8361 8362 8363 8364\n",
            " 8364 8365 8366 8367 8368 8369 8370 8371 8372 8373 8374 8375 8376 8377\n",
            " 8377 8378 8379 8380 8381 8382 8383 8384]\n",
            "these indexes will be added [1, 2, 6, 17, 26, 40]\n",
            "result :  [8341 8342 8342 8342 8343 8344 8345 8345 8346 8347 8348 8349 8350 8351\n",
            " 8352 8353 8354 8355 8355 8356 8357 8358 8359 8360 8361 8362 8363 8363\n",
            " 8364 8365 8366 8367 8368 8369 8370 8371 8372 8373 8374 8375 8376 8376\n",
            " 8377 8378 8379 8380 8381 8382 8383 8384]\n",
            "these indexes will be added [0, 4, 21, 26, 28, 29]\n",
            "result :  [8341 8341 8342 8343 8344 8344 8345 8346 8347 8348 8349 8350 8351 8352\n",
            " 8353 8354 8355 8356 8357 8358 8359 8360 8360 8361 8362 8363 8364 8364\n",
            " 8365 8365 8365 8366 8367 8368 8369 8370 8371 8372 8373 8374 8375 8376\n",
            " 8377 8378 8379 8380 8381 8382 8383 8384]\n",
            "these indexes will be added [0, 3, 4, 22, 38, 40]\n",
            "result :  [8341 8341 8342 8343 8343 8343 8344 8345 8346 8347 8348 8349 8350 8351\n",
            " 8352 8353 8354 8355 8356 8357 8358 8359 8360 8360 8361 8362 8363 8364\n",
            " 8365 8366 8367 8368 8369 8370 8371 8372 8373 8374 8375 8375 8376 8376\n",
            " 8377 8378 8379 8380 8381 8382 8383 8384]\n",
            "105 th video : hit the limit!\n",
            "118 th video : hit the limit!\n",
            "129 th video : hit the limit!\n"
          ],
          "name": "stdout"
        }
      ]
    },
    {
      "cell_type": "code",
      "metadata": {
        "id": "XBmopfmij9kC",
        "colab_type": "code",
        "colab": {}
      },
      "source": [
        "# Load the networks inputs\n",
        "X_pre_train = split_in_blocks(X_np_train, n_steps)\n",
        "X_test = split_in_blocks(X_np_test, n_steps)"
      ],
      "execution_count": 0,
      "outputs": []
    },
    {
      "cell_type": "markdown",
      "metadata": {
        "id": "p84tjqbGu_CD",
        "colab_type": "text"
      },
      "source": [
        "##y_train, y_val, y_test"
      ]
    },
    {
      "cell_type": "code",
      "metadata": {
        "id": "kvQap_O9uQsl",
        "colab_type": "code",
        "colab": {}
      },
      "source": [
        "y_pre_train, y_test = get_y(augmentation_amount)"
      ],
      "execution_count": 0,
      "outputs": []
    },
    {
      "cell_type": "code",
      "metadata": {
        "id": "Oem7uCiT4oEs",
        "colab_type": "code",
        "colab": {}
      },
      "source": [
        "from sklearn.model_selection import train_test_split\n",
        "\n",
        "X_train, X_val, y_train, y_val = train_test_split(X_pre_train, y_pre_train, test_size = 0.3, random_state=64)"
      ],
      "execution_count": 0,
      "outputs": []
    },
    {
      "cell_type": "markdown",
      "metadata": {
        "id": "hZzvdv1p48E-",
        "colab_type": "text"
      },
      "source": [
        "##Train it!"
      ]
    },
    {
      "cell_type": "code",
      "metadata": {
        "id": "kV9P_Z-AkAG_",
        "colab_type": "code",
        "outputId": "c4e7adc1-6f05-4e30-9aa4-e8571fa16c95",
        "colab": {
          "base_uri": "https://localhost:8080/",
          "height": 1000
        }
      },
      "source": [
        "from keras.callbacks import EarlyStopping\n",
        "\n",
        "# Input Data \n",
        "n_input = len(X_train[0][0])\n",
        "n_hidden = 256 # Hidden layer num of features\n",
        "n_classes = 35\n",
        "learning_rate = 0.0007 #used if decaying_learning_rate set to False\n",
        "decay_rate = 0.02 #the base of the exponential in the decay\n",
        "lambda_loss_amount = 0.0015\n",
        "\n",
        "training_epochs = 50\n",
        "batch_size = 64\n",
        "\n",
        "model = SLT_model.GRU_RNN(n_input, n_hidden, n_classes, lambda_loss_amount, batch_size, n_steps)\n",
        "\n",
        "model.compile(\n",
        "   optimizer=optimizers.Adam(lr=learning_rate, decay=decay_rate),\n",
        "   metrics=['accuracy'],\n",
        "   loss='categorical_crossentropy'\n",
        ")\n",
        "\n",
        "y_train_one_hot = keras.utils.to_categorical(y_train, 35)\n",
        "y_val_one_hot = keras.utils.to_categorical(y_val, 35)\n",
        "y_test_one_hot = keras.utils.to_categorical(y_test, 35)\n",
        "\n",
        "train_size = X_train.shape[0] - X_train.shape[0] % batch_size\n",
        "val_size = X_val.shape[0] - X_val.shape[0] % batch_size\n",
        "test_size = X_test.shape[0] - X_test.shape[0] % batch_size\n",
        "\n",
        "es = EarlyStopping(monitor='val_loss', mode='min', verbose=1, patience=15, min_delta=0.005)\n",
        "\n",
        "history = model.fit(\n",
        "   X_train[:train_size,:,:], \n",
        "   y_train_one_hot[:train_size,:],\n",
        "   epochs=training_epochs,\n",
        "   batch_size=batch_size,\n",
        "   validation_data=(X_val[:val_size,:,:], y_val_one_hot[:val_size,:]),\n",
        "   callbacks=[es]\n",
        ")"
      ],
      "execution_count": 11,
      "outputs": [
        {
          "output_type": "stream",
          "text": [
            "Train on 17600 samples, validate on 7552 samples\n",
            "Epoch 1/50\n",
            "17600/17600 [==============================] - 59s 3ms/step - loss: 2.7749 - accuracy: 0.2143 - val_loss: 2.2206 - val_accuracy: 0.3640\n",
            "Epoch 2/50\n",
            "17600/17600 [==============================] - 54s 3ms/step - loss: 1.8870 - accuracy: 0.4763 - val_loss: 1.6768 - val_accuracy: 0.5510\n",
            "Epoch 3/50\n",
            "17600/17600 [==============================] - 53s 3ms/step - loss: 1.4993 - accuracy: 0.6072 - val_loss: 1.3942 - val_accuracy: 0.6337\n",
            "Epoch 4/50\n",
            "17600/17600 [==============================] - 55s 3ms/step - loss: 1.2845 - accuracy: 0.6651 - val_loss: 1.2343 - val_accuracy: 0.6781\n",
            "Epoch 5/50\n",
            "17600/17600 [==============================] - 54s 3ms/step - loss: 1.1487 - accuracy: 0.7054 - val_loss: 1.1224 - val_accuracy: 0.7184\n",
            "Epoch 6/50\n",
            "17600/17600 [==============================] - 55s 3ms/step - loss: 1.0521 - accuracy: 0.7403 - val_loss: 1.0397 - val_accuracy: 0.7350\n",
            "Epoch 7/50\n",
            "17600/17600 [==============================] - 54s 3ms/step - loss: 0.9798 - accuracy: 0.7577 - val_loss: 0.9784 - val_accuracy: 0.7552\n",
            "Epoch 8/50\n",
            "17600/17600 [==============================] - 54s 3ms/step - loss: 0.9197 - accuracy: 0.7754 - val_loss: 0.9233 - val_accuracy: 0.7745\n",
            "Epoch 9/50\n",
            "17600/17600 [==============================] - 53s 3ms/step - loss: 0.8747 - accuracy: 0.7865 - val_loss: 0.8854 - val_accuracy: 0.7791\n",
            "Epoch 10/50\n",
            "17600/17600 [==============================] - 53s 3ms/step - loss: 0.8332 - accuracy: 0.8002 - val_loss: 0.8442 - val_accuracy: 0.7945\n",
            "Epoch 11/50\n",
            "17600/17600 [==============================] - 53s 3ms/step - loss: 0.8006 - accuracy: 0.8090 - val_loss: 0.8169 - val_accuracy: 0.8015\n",
            "Epoch 12/50\n",
            "17600/17600 [==============================] - 53s 3ms/step - loss: 0.7707 - accuracy: 0.8152 - val_loss: 0.7875 - val_accuracy: 0.8076\n",
            "Epoch 13/50\n",
            "17600/17600 [==============================] - 54s 3ms/step - loss: 0.7438 - accuracy: 0.8216 - val_loss: 0.7605 - val_accuracy: 0.8153\n",
            "Epoch 14/50\n",
            "17600/17600 [==============================] - 53s 3ms/step - loss: 0.7211 - accuracy: 0.8263 - val_loss: 0.7410 - val_accuracy: 0.8193\n",
            "Epoch 15/50\n",
            "17600/17600 [==============================] - 53s 3ms/step - loss: 0.7005 - accuracy: 0.8300 - val_loss: 0.7192 - val_accuracy: 0.8253\n",
            "Epoch 16/50\n",
            "17600/17600 [==============================] - 52s 3ms/step - loss: 0.6807 - accuracy: 0.8362 - val_loss: 0.7038 - val_accuracy: 0.8292\n",
            "Epoch 17/50\n",
            "17600/17600 [==============================] - 52s 3ms/step - loss: 0.6646 - accuracy: 0.8406 - val_loss: 0.6851 - val_accuracy: 0.8322\n",
            "Epoch 18/50\n",
            "17600/17600 [==============================] - 54s 3ms/step - loss: 0.6484 - accuracy: 0.8414 - val_loss: 0.6718 - val_accuracy: 0.8350\n",
            "Epoch 19/50\n",
            "17600/17600 [==============================] - 53s 3ms/step - loss: 0.6344 - accuracy: 0.8467 - val_loss: 0.6556 - val_accuracy: 0.8410\n",
            "Epoch 20/50\n",
            "17600/17600 [==============================] - 53s 3ms/step - loss: 0.6211 - accuracy: 0.8472 - val_loss: 0.6441 - val_accuracy: 0.8436\n",
            "Epoch 21/50\n",
            "17600/17600 [==============================] - 53s 3ms/step - loss: 0.6075 - accuracy: 0.8543 - val_loss: 0.6314 - val_accuracy: 0.8456\n",
            "Epoch 22/50\n",
            "17600/17600 [==============================] - 52s 3ms/step - loss: 0.5964 - accuracy: 0.8546 - val_loss: 0.6206 - val_accuracy: 0.8486\n",
            "Epoch 23/50\n",
            "17600/17600 [==============================] - 53s 3ms/step - loss: 0.5856 - accuracy: 0.8583 - val_loss: 0.6112 - val_accuracy: 0.8513\n",
            "Epoch 24/50\n",
            "17600/17600 [==============================] - 54s 3ms/step - loss: 0.5751 - accuracy: 0.8598 - val_loss: 0.6002 - val_accuracy: 0.8530\n",
            "Epoch 25/50\n",
            "17600/17600 [==============================] - 54s 3ms/step - loss: 0.5659 - accuracy: 0.8602 - val_loss: 0.5896 - val_accuracy: 0.8558\n",
            "Epoch 26/50\n",
            "17600/17600 [==============================] - 53s 3ms/step - loss: 0.5565 - accuracy: 0.8640 - val_loss: 0.5853 - val_accuracy: 0.8590\n",
            "Epoch 27/50\n",
            "17600/17600 [==============================] - 52s 3ms/step - loss: 0.5481 - accuracy: 0.8678 - val_loss: 0.5746 - val_accuracy: 0.8595\n",
            "Epoch 28/50\n",
            "17600/17600 [==============================] - 53s 3ms/step - loss: 0.5410 - accuracy: 0.8707 - val_loss: 0.5671 - val_accuracy: 0.8622\n",
            "Epoch 29/50\n",
            "17600/17600 [==============================] - 53s 3ms/step - loss: 0.5332 - accuracy: 0.8707 - val_loss: 0.5603 - val_accuracy: 0.8628\n",
            "Epoch 30/50\n",
            "17600/17600 [==============================] - 52s 3ms/step - loss: 0.5258 - accuracy: 0.8737 - val_loss: 0.5545 - val_accuracy: 0.8671\n",
            "Epoch 31/50\n",
            "17600/17600 [==============================] - 52s 3ms/step - loss: 0.5187 - accuracy: 0.8760 - val_loss: 0.5446 - val_accuracy: 0.8665\n",
            "Epoch 32/50\n",
            "17600/17600 [==============================] - 52s 3ms/step - loss: 0.5115 - accuracy: 0.8775 - val_loss: 0.5384 - val_accuracy: 0.8688\n",
            "Epoch 33/50\n",
            "17600/17600 [==============================] - 53s 3ms/step - loss: 0.5057 - accuracy: 0.8813 - val_loss: 0.5333 - val_accuracy: 0.8690\n",
            "Epoch 34/50\n",
            "17600/17600 [==============================] - 52s 3ms/step - loss: 0.4999 - accuracy: 0.8822 - val_loss: 0.5274 - val_accuracy: 0.8735\n",
            "Epoch 35/50\n",
            "17600/17600 [==============================] - 52s 3ms/step - loss: 0.4945 - accuracy: 0.8826 - val_loss: 0.5216 - val_accuracy: 0.8739\n",
            "Epoch 36/50\n",
            "17600/17600 [==============================] - 53s 3ms/step - loss: 0.4878 - accuracy: 0.8848 - val_loss: 0.5150 - val_accuracy: 0.8751\n",
            "Epoch 37/50\n",
            "17600/17600 [==============================] - 53s 3ms/step - loss: 0.4831 - accuracy: 0.8850 - val_loss: 0.5105 - val_accuracy: 0.8771\n",
            "Epoch 38/50\n",
            "17600/17600 [==============================] - 54s 3ms/step - loss: 0.4781 - accuracy: 0.8865 - val_loss: 0.5042 - val_accuracy: 0.8787\n",
            "Epoch 39/50\n",
            "17600/17600 [==============================] - 52s 3ms/step - loss: 0.4737 - accuracy: 0.8869 - val_loss: 0.4992 - val_accuracy: 0.8803\n",
            "Epoch 40/50\n",
            "17600/17600 [==============================] - 52s 3ms/step - loss: 0.4686 - accuracy: 0.8896 - val_loss: 0.4955 - val_accuracy: 0.8784\n",
            "Epoch 41/50\n",
            "17600/17600 [==============================] - 53s 3ms/step - loss: 0.4645 - accuracy: 0.8909 - val_loss: 0.4906 - val_accuracy: 0.8804\n",
            "Epoch 42/50\n",
            "17600/17600 [==============================] - 52s 3ms/step - loss: 0.4597 - accuracy: 0.8926 - val_loss: 0.4855 - val_accuracy: 0.8815\n",
            "Epoch 43/50\n",
            "17600/17600 [==============================] - 54s 3ms/step - loss: 0.4552 - accuracy: 0.8919 - val_loss: 0.4827 - val_accuracy: 0.8847\n",
            "Epoch 44/50\n",
            "17600/17600 [==============================] - 52s 3ms/step - loss: 0.4513 - accuracy: 0.8928 - val_loss: 0.4778 - val_accuracy: 0.8855\n",
            "Epoch 45/50\n",
            "17600/17600 [==============================] - 52s 3ms/step - loss: 0.4474 - accuracy: 0.8939 - val_loss: 0.4737 - val_accuracy: 0.8851\n",
            "Epoch 46/50\n",
            "17600/17600 [==============================] - 52s 3ms/step - loss: 0.4436 - accuracy: 0.8953 - val_loss: 0.4698 - val_accuracy: 0.8860\n",
            "Epoch 47/50\n",
            "17600/17600 [==============================] - 53s 3ms/step - loss: 0.4398 - accuracy: 0.8961 - val_loss: 0.4660 - val_accuracy: 0.8880\n",
            "Epoch 48/50\n",
            "17600/17600 [==============================] - 52s 3ms/step - loss: 0.4356 - accuracy: 0.8968 - val_loss: 0.4627 - val_accuracy: 0.8889\n",
            "Epoch 49/50\n",
            "17600/17600 [==============================] - 52s 3ms/step - loss: 0.4334 - accuracy: 0.8957 - val_loss: 0.4592 - val_accuracy: 0.8892\n",
            "Epoch 50/50\n",
            "17600/17600 [==============================] - 52s 3ms/step - loss: 0.4300 - accuracy: 0.8971 - val_loss: 0.4561 - val_accuracy: 0.8890\n"
          ],
          "name": "stdout"
        }
      ]
    },
    {
      "cell_type": "code",
      "metadata": {
        "id": "FqJtxB9wOrvc",
        "colab_type": "code",
        "outputId": "baa11cf2-9a65-4d38-b218-2ec50805bc91",
        "colab": {
          "base_uri": "https://localhost:8080/",
          "height": 545
        }
      },
      "source": [
        "import matplotlib.pyplot as plt\n",
        "\n",
        "acc = history.history['accuracy']\n",
        "val_acc = history.history['val_accuracy']\n",
        "loss = history.history['loss']\n",
        "val_loss = history.history['val_loss']\n",
        "\n",
        "epochs = range(len(acc))\n",
        "\n",
        "plt.plot(epochs, acc, 'bo', label=\"Training acc\")\n",
        "plt.plot(epochs, val_acc, 'b', label=\"Validation acc\")\n",
        "plt.title('Training and Validation accuracy')\n",
        "plt.legend()\n",
        "\n",
        "plt.figure()\n",
        "\n",
        "plt.plot(epochs, loss, 'bo', label=\"Training loss\")\n",
        "plt.plot(epochs, val_loss, 'b', label=\"Validation loss\")\n",
        "plt.title(\"Training and Validation loss\")\n",
        "plt.legend()\n",
        "\n",
        "plt.show()"
      ],
      "execution_count": 12,
      "outputs": [
        {
          "output_type": "display_data",
          "data": {
            "image/png": "[encoded data removed]",
            "text/plain": [
              "<Figure size 432x288 with 1 Axes>"
            ]
          },
          "metadata": {
            "tags": [],
            "needs_background": "light"
          }
        },
        {
          "output_type": "display_data",
          "data": {
            "image/png": "[encoded data removed]",
            "text/plain": [
              "<Figure size 432x288 with 1 Axes>"
            ]
          },
          "metadata": {
            "tags": [],
            "needs_background": "light"
          }
        }
      ]
    },
    {
      "cell_type": "code",
      "metadata": {
        "id": "jNyA_1SzCXa8",
        "colab_type": "code",
        "outputId": "6ad32649-82c3-4f80-dddb-715983cc7972",
        "colab": {
          "base_uri": "https://localhost:8080/",
          "height": 52
        }
      },
      "source": [
        "loss_and_metrics = model.evaluate(x=X_test[:test_size,:,:], y=y_test_one_hot[:test_size,:], batch_size=batch_size)\n",
        "\n",
        "print(loss_and_metrics)"
      ],
      "execution_count": 13,
      "outputs": [
        {
          "output_type": "stream",
          "text": [
            "2752/2752 [==============================] - 2s 754us/step\n",
            "[1.0413106238079626, 0.6504360437393188]\n"
          ],
          "name": "stdout"
        }
      ]
    },
    {
      "cell_type": "code",
      "metadata": {
        "id": "Pay5ETnGRXcd",
        "colab_type": "code",
        "colab": {}
      },
      "source": [
        "model_json = model.to_json()\n",
        "with open(\"/content/drive/My Drive/Capstone/model/SLT-model-102-65.json\", \"w\") as json_file:\n",
        "    json_file.write(model_json)\n",
        "\n",
        "model.save_weights(\"/content/drive/My Drive/Capstone/model/SLT-model-102-65.h5\")"
      ],
      "execution_count": 0,
      "outputs": []
    },
    {
      "cell_type": "code",
      "metadata": {
        "id": "8rh4mUxIUR-g",
        "colab_type": "code",
        "colab": {}
      },
      "source": [
        ""
      ],
      "execution_count": 0,
      "outputs": []
    }
  ]
}