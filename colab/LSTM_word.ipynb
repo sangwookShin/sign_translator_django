{
  "nbformat": 4,
  "nbformat_minor": 0,
  "metadata": {
    "colab": {
      "name": "LSTM_word1.ipynb",
      "provenance": [],
      "collapsed_sections": [],
      "machine_shape": "hm"
    },
    "kernelspec": {
      "name": "python3",
      "display_name": "Python 3"
    },
    "accelerator": "GPU"
  },
  "cells": [
    {
      "cell_type": "code",
      "metadata": {
        "id": "Xz5QczFP0p8-",
        "colab_type": "code",
        "outputId": "7e3f7601-00b8-44ec-cb4e-89bfe8af52b3",
        "colab": {
          "base_uri": "https://localhost:8080/",
          "height": 125
        }
      },
      "source": [
        "from google.colab import drive\n",
        "drive.mount('/content/drive')"
      ],
      "execution_count": 0,
      "outputs": [
        {
          "output_type": "stream",
          "text": [
            "Go to this URL in a browser: https://accounts.google.com/o/oauth2/auth?client_id=947318989803-6bn6qk8qdgf4n4g3pfee6491hc0brc4i.apps.googleusercontent.com&redirect_uri=urn%3aietf%3awg%3aoauth%3a2.0%3aoob&response_type=code&scope=email%20https%3a%2f%2fwww.googleapis.com%2fauth%2fdocs.test%20https%3a%2f%2fwww.googleapis.com%2fauth%2fdrive%20https%3a%2f%2fwww.googleapis.com%2fauth%2fdrive.photos.readonly%20https%3a%2f%2fwww.googleapis.com%2fauth%2fpeopleapi.readonly\n",
            "\n",
            "Enter your authorization code:\n",
            "··········\n",
            "Mounted at /content/drive\n"
          ],
          "name": "stdout"
        }
      ]
    },
    {
      "cell_type": "code",
      "metadata": {
        "id": "7dbYVdnmj6Ag",
        "colab_type": "code",
        "outputId": "dc41bbdf-7e6d-4bf3-9cd0-7197ee9c1758",
        "colab": {
          "base_uri": "https://localhost:8080/",
          "height": 52
        }
      },
      "source": [
        "import numpy as np\n",
        "import pandas as pd\n",
        "import matplotlib\n",
        "import matplotlib.pyplot as plt\n",
        "import tensorflow as tf  # Version 1.0.0 (some previous versions are used in past commits)\n",
        "from sklearn import metrics\n",
        "import random\n",
        "from random import randint\n",
        "import time\n",
        "import os\n",
        "import keras\n",
        "from keras import regularizers\n",
        "from keras import layers\n",
        "from keras.models import Sequential\n",
        "from keras import optimizers\n",
        "\n",
        "print(tf.__version__)"
      ],
      "execution_count": 0,
      "outputs": [
        {
          "output_type": "stream",
          "text": [
            "2.2.0\n"
          ],
          "name": "stdout"
        },
        {
          "output_type": "stream",
          "text": [
            "Using TensorFlow backend.\n"
          ],
          "name": "stderr"
        }
      ]
    },
    {
      "cell_type": "code",
      "metadata": {
        "id": "Aksf5e0aj761",
        "colab_type": "code",
        "colab": {}
      },
      "source": [
        "# Useful Constants\n",
        "\n",
        "augmentation_amount = 20\n",
        "\n",
        "normalization_method = \"wh\"\n",
        "\n",
        "# Output classes to learn how to classify\n",
        "LABELS = [    \n",
        "  \"friend\",\n",
        "  \"toy\",\n",
        "  \"stabbed\",\n",
        "  \"glass\",\n",
        "  \"baby\",\n",
        "  \"can't breath\",\n",
        "  \"swallow\",\n",
        "  \"break\",\n",
        "  \"foot\",\n",
        "  \"hornet\",\n",
        "  \"poison\",\n",
        "  \"faint\",\n",
        "  \"burned\",\n",
        "  \"dyspnoea\",\n",
        "  \"sinked\",\n",
        "  \"bleed\",\n",
        "  \"vomit\",\n",
        "  \"dislocation\",\n",
        "  \"childbirth\",\n",
        "  \"fall\",\n",
        "  \"pale\",\n",
        "  \"choke\",\n",
        "  \"cut\",\n",
        "  \"run a temperature\",\n",
        "  \"dizzy\",\n",
        "  \"fall down\",\n",
        "  \"heart attack\",\n",
        "  \"colic\",\n",
        "  \"seizure\",\n",
        "  \"spotty\",\n",
        "  \"hives\",\n",
        "  \"fracture\",\n",
        "  \"high fever\",\n",
        "  \"itchy\"\n",
        "]\n",
        "DATASET_PATH = \"/content/drive/My Drive/Capstone/csv3/augmentation x \"+str(augmentation_amount)+\"/\"\n",
        "\n",
        "X_train_path = DATASET_PATH + \"X_train_\"+normalization_method+\".csv\"\n",
        "X_test_path = DATASET_PATH + \"X_test_\"+normalization_method+\".csv\"\n",
        "\n",
        "n_steps = 50 # 50 timesteps per series"
      ],
      "execution_count": 0,
      "outputs": []
    },
    {
      "cell_type": "code",
      "metadata": {
        "id": "XBmopfmij9kC",
        "colab_type": "code",
        "colab": {}
      },
      "source": [
        "# Load the networks inputs\n",
        "\n",
        "X_df_train = pd.read_csv(X_train_path, header=None).to_numpy()\n",
        "blocks = int(len(X_df_train) / n_steps)\n",
        "X_pre_train = np.array(np.split(X_df_train,blocks))"
      ],
      "execution_count": 0,
      "outputs": []
    },
    {
      "cell_type": "code",
      "metadata": {
        "id": "hdY4f-S8286L",
        "colab_type": "code",
        "outputId": "13c5d1a0-0d8d-467c-8d09-a3dd42ef32fc",
        "colab": {
          "base_uri": "https://localhost:8080/",
          "height": 52
        }
      },
      "source": [
        "X_df_test = pd.read_csv(X_test_path, header=None).to_numpy()\n",
        "blocks = int(len(X_df_test) / n_steps)\n",
        "X_test = np.array(np.split(X_df_test,blocks))\n",
        "\n",
        "#X_test = load_X(X_test_path)\n",
        "print(X_pre_train.shape)\n",
        "print(X_test.shape)"
      ],
      "execution_count": 0,
      "outputs": [
        {
          "output_type": "stream",
          "text": [
            "(25200, 50, 108)\n",
            "(2800, 50, 108)\n"
          ],
          "name": "stdout"
        }
      ]
    },
    {
      "cell_type": "markdown",
      "metadata": {
        "id": "p84tjqbGu_CD",
        "colab_type": "text"
      },
      "source": [
        "##y_train, y_val, y_test"
      ]
    },
    {
      "cell_type": "code",
      "metadata": {
        "id": "kvQap_O9uQsl",
        "colab_type": "code",
        "outputId": "9712bc41-5617-4810-b7b9-cb586d3b4e84",
        "colab": {
          "base_uri": "https://localhost:8080/",
          "height": 34
        }
      },
      "source": [
        "y_test = []\n",
        "y_pre_train = []\n",
        "\n",
        "##y_test\n",
        "for i in range(35):\n",
        "  for j in range(4*augmentation_amount):\n",
        "    y_test.append(i)\n",
        "\n",
        "y_test = np.asarray(y_test)\n",
        "\n",
        "##y_pre_train ##if necessary\n",
        "for i in range(35):\n",
        "  for j in range(16*augmentation_amount):\n",
        "    y_pre_train.append(i)\n",
        "\n",
        "for i in range(4):\n",
        "  for j in range(35):\n",
        "    for k in range(5*augmentation_amount):\n",
        "      y_pre_train.append(j)\n",
        "\n",
        "y_pre_train = np.asarray(y_pre_train)\n",
        "\n",
        "print(y_pre_train.shape)"
      ],
      "execution_count": 0,
      "outputs": [
        {
          "output_type": "stream",
          "text": [
            "(25200,)\n"
          ],
          "name": "stdout"
        }
      ]
    },
    {
      "cell_type": "code",
      "metadata": {
        "id": "Oem7uCiT4oEs",
        "colab_type": "code",
        "colab": {}
      },
      "source": [
        "from sklearn.model_selection import train_test_split\n",
        "\n",
        "X_train, X_val, y_train, y_val = train_test_split(X_pre_train, y_pre_train, test_size = 0.3, random_state=64)"
      ],
      "execution_count": 0,
      "outputs": []
    },
    {
      "cell_type": "code",
      "metadata": {
        "id": "-KdEVbYnBRJ-",
        "colab_type": "code",
        "outputId": "3a485dc2-db95-4902-f26c-ac372f1bfd43",
        "colab": {
          "base_uri": "https://localhost:8080/",
          "height": 34
        }
      },
      "source": [
        "print(X_train.shape, X_val.shape, y_train.shape, y_val.shape)"
      ],
      "execution_count": 0,
      "outputs": [
        {
          "output_type": "stream",
          "text": [
            "(17640, 50, 108) (7560, 50, 108) (17640,) (7560,)\n"
          ],
          "name": "stdout"
        }
      ]
    },
    {
      "cell_type": "code",
      "metadata": {
        "id": "ZCXYTnw72wDo",
        "colab_type": "code",
        "colab": {}
      },
      "source": [
        "def GRU_RNN(n_input_, n_hidden_, n_classes_, lambda_loss_amount_, batch_size_):\n",
        "  return Sequential([\n",
        "   # relu activation\n",
        "   layers.Dense(n_hidden_, activation='relu', \n",
        "       kernel_initializer='random_normal', \n",
        "       bias_initializer='random_normal',\n",
        "       batch_input_shape=(batch_size_, n_steps, n_input_)\n",
        "   ),\n",
        "   layers.GRU(n_hidden_, return_sequences=True),\n",
        "   layers.Dropout(0.2),\n",
        "   layers.GRU(n_hidden_, return_sequences=True),\n",
        "   layers.GRU(n_hidden_, return_sequences=True),\n",
        "   layers.GRU(n_hidden_, return_sequences=True),\n",
        "   layers.GRU(n_hidden_),\n",
        "\n",
        "   layers.Dense(n_classes_, kernel_initializer='random_normal', \n",
        "       bias_initializer='random_normal',\n",
        "       kernel_regularizer=regularizers.l2(lambda_loss_amount_),\n",
        "       bias_regularizer=regularizers.l2(lambda_loss_amount_),\n",
        "       activation='softmax'\n",
        "   )\n",
        "  ])"
      ],
      "execution_count": 0,
      "outputs": []
    },
    {
      "cell_type": "markdown",
      "metadata": {
        "id": "hZzvdv1p48E-",
        "colab_type": "text"
      },
      "source": [
        "##Train it!"
      ]
    },
    {
      "cell_type": "code",
      "metadata": {
        "id": "kV9P_Z-AkAG_",
        "colab_type": "code",
        "outputId": "76a66e83-68db-4722-f9e0-7750b5233f64",
        "colab": {
          "base_uri": "https://localhost:8080/",
          "height": 1000
        }
      },
      "source": [
        "from keras.callbacks import EarlyStopping\n",
        "\n",
        "# Input Data \n",
        "n_input = len(X_train[0][0])\n",
        "n_hidden = 256 # Hidden layer num of features\n",
        "n_classes = 35\n",
        "learning_rate = 0.0007 #used if decaying_learning_rate set to False\n",
        "decay_rate = 0.02 #the base of the exponential in the decay\n",
        "lambda_loss_amount = 0.0015\n",
        "\n",
        "training_epochs = 100\n",
        "batch_size = 64\n",
        "\n",
        "model = GRU_RNN(n_input, n_hidden, n_classes, lambda_loss_amount, batch_size)\n",
        "\n",
        "model.compile(\n",
        "   optimizer=optimizers.Adam(lr=learning_rate, decay=decay_rate),\n",
        "   metrics=['accuracy'],\n",
        "   loss='categorical_crossentropy'\n",
        ")\n",
        "\n",
        "y_train_one_hot = keras.utils.to_categorical(y_train, 35)\n",
        "y_val_one_hot = keras.utils.to_categorical(y_val, 35)\n",
        "y_test_one_hot = keras.utils.to_categorical(y_test, 35)\n",
        "\n",
        "train_size = X_train.shape[0] - X_train.shape[0] % batch_size\n",
        "val_size = X_val.shape[0] - X_val.shape[0] % batch_size\n",
        "test_size = X_test.shape[0] - X_test.shape[0] % batch_size\n",
        "\n",
        "es = EarlyStopping(monitor='val_loss', mode='min', verbose=1, patience=15, min_delta=0.005)\n",
        "\n",
        "history = model.fit(\n",
        "   X_train[:train_size,:,:], \n",
        "   y_train_one_hot[:train_size,:],\n",
        "   epochs=training_epochs,\n",
        "   batch_size=batch_size,\n",
        "   validation_data=(X_val[:val_size,:,:], y_val_one_hot[:val_size,:]),\n",
        "   callbacks=[es]\n",
        ")"
      ],
      "execution_count": 0,
      "outputs": [
        {
          "output_type": "stream",
          "text": [
            "Train on 17600 samples, validate on 7552 samples\n",
            "Epoch 1/100\n",
            "17600/17600 [==============================] - 53s 3ms/step - loss: 2.8428 - accuracy: 0.2032 - val_loss: 2.1797 - val_accuracy: 0.3701\n",
            "Epoch 2/100\n",
            "17600/17600 [==============================] - 51s 3ms/step - loss: 1.8949 - accuracy: 0.4733 - val_loss: 1.6754 - val_accuracy: 0.5505\n",
            "Epoch 3/100\n",
            "17600/17600 [==============================] - 51s 3ms/step - loss: 1.5280 - accuracy: 0.5821 - val_loss: 1.4186 - val_accuracy: 0.6145\n",
            "Epoch 4/100\n",
            "17600/17600 [==============================] - 51s 3ms/step - loss: 1.3155 - accuracy: 0.6459 - val_loss: 1.2569 - val_accuracy: 0.6687\n",
            "Epoch 5/100\n",
            "17600/17600 [==============================] - 51s 3ms/step - loss: 1.1768 - accuracy: 0.6903 - val_loss: 1.1486 - val_accuracy: 0.7022\n",
            "Epoch 6/100\n",
            "17600/17600 [==============================] - 50s 3ms/step - loss: 1.0753 - accuracy: 0.7233 - val_loss: 1.0569 - val_accuracy: 0.7373\n",
            "Epoch 7/100\n",
            "17600/17600 [==============================] - 50s 3ms/step - loss: 0.9983 - accuracy: 0.7500 - val_loss: 0.9918 - val_accuracy: 0.7581\n",
            "Epoch 8/100\n",
            "17600/17600 [==============================] - 50s 3ms/step - loss: 0.9372 - accuracy: 0.7655 - val_loss: 0.9389 - val_accuracy: 0.7696\n",
            "Epoch 9/100\n",
            "17600/17600 [==============================] - 50s 3ms/step - loss: 0.8862 - accuracy: 0.7812 - val_loss: 0.8928 - val_accuracy: 0.7835\n",
            "Epoch 10/100\n",
            "17600/17600 [==============================] - 49s 3ms/step - loss: 0.8430 - accuracy: 0.7949 - val_loss: 0.8542 - val_accuracy: 0.7952\n",
            "Epoch 11/100\n",
            "17600/17600 [==============================] - 50s 3ms/step - loss: 0.8092 - accuracy: 0.8039 - val_loss: 0.8208 - val_accuracy: 0.8015\n",
            "Epoch 12/100\n",
            "17600/17600 [==============================] - 49s 3ms/step - loss: 0.7777 - accuracy: 0.8116 - val_loss: 0.7952 - val_accuracy: 0.8097\n",
            "Epoch 13/100\n",
            "17600/17600 [==============================] - 49s 3ms/step - loss: 0.7507 - accuracy: 0.8205 - val_loss: 0.7663 - val_accuracy: 0.8189\n",
            "Epoch 14/100\n",
            "17600/17600 [==============================] - 49s 3ms/step - loss: 0.7273 - accuracy: 0.8247 - val_loss: 0.7452 - val_accuracy: 0.8251\n",
            "Epoch 15/100\n",
            "17600/17600 [==============================] - 49s 3ms/step - loss: 0.7047 - accuracy: 0.8323 - val_loss: 0.7243 - val_accuracy: 0.8277\n",
            "Epoch 16/100\n",
            "17600/17600 [==============================] - 50s 3ms/step - loss: 0.6870 - accuracy: 0.8365 - val_loss: 0.7050 - val_accuracy: 0.8349\n",
            "Epoch 17/100\n",
            "17600/17600 [==============================] - 50s 3ms/step - loss: 0.6688 - accuracy: 0.8423 - val_loss: 0.6881 - val_accuracy: 0.8359\n",
            "Epoch 18/100\n",
            "17600/17600 [==============================] - 49s 3ms/step - loss: 0.6527 - accuracy: 0.8465 - val_loss: 0.6729 - val_accuracy: 0.8408\n",
            "Epoch 19/100\n",
            "17600/17600 [==============================] - 49s 3ms/step - loss: 0.6376 - accuracy: 0.8489 - val_loss: 0.6580 - val_accuracy: 0.8432\n",
            "Epoch 20/100\n",
            "17600/17600 [==============================] - 49s 3ms/step - loss: 0.6246 - accuracy: 0.8531 - val_loss: 0.6451 - val_accuracy: 0.8475\n",
            "Epoch 21/100\n",
            "17600/17600 [==============================] - 49s 3ms/step - loss: 0.6109 - accuracy: 0.8570 - val_loss: 0.6321 - val_accuracy: 0.8501\n",
            "Epoch 22/100\n",
            "17600/17600 [==============================] - 49s 3ms/step - loss: 0.6000 - accuracy: 0.8577 - val_loss: 0.6208 - val_accuracy: 0.8529\n",
            "Epoch 23/100\n",
            "17600/17600 [==============================] - 48s 3ms/step - loss: 0.5885 - accuracy: 0.8609 - val_loss: 0.6124 - val_accuracy: 0.8541\n",
            "Epoch 24/100\n",
            "17600/17600 [==============================] - 49s 3ms/step - loss: 0.5782 - accuracy: 0.8648 - val_loss: 0.6041 - val_accuracy: 0.8543\n",
            "Epoch 25/100\n",
            "17600/17600 [==============================] - 48s 3ms/step - loss: 0.5692 - accuracy: 0.8676 - val_loss: 0.5926 - val_accuracy: 0.8570\n",
            "Epoch 26/100\n",
            "17600/17600 [==============================] - 48s 3ms/step - loss: 0.5599 - accuracy: 0.8674 - val_loss: 0.5816 - val_accuracy: 0.8598\n",
            "Epoch 27/100\n",
            "17600/17600 [==============================] - 49s 3ms/step - loss: 0.5523 - accuracy: 0.8672 - val_loss: 0.5728 - val_accuracy: 0.8615\n",
            "Epoch 28/100\n",
            "17600/17600 [==============================] - 48s 3ms/step - loss: 0.5428 - accuracy: 0.8691 - val_loss: 0.5650 - val_accuracy: 0.8635\n",
            "Epoch 29/100\n",
            "17600/17600 [==============================] - 49s 3ms/step - loss: 0.5354 - accuracy: 0.8729 - val_loss: 0.5566 - val_accuracy: 0.8639\n",
            "Epoch 30/100\n",
            "17600/17600 [==============================] - 49s 3ms/step - loss: 0.5284 - accuracy: 0.8736 - val_loss: 0.5511 - val_accuracy: 0.8641\n",
            "Epoch 31/100\n",
            "17600/17600 [==============================] - 49s 3ms/step - loss: 0.5213 - accuracy: 0.8760 - val_loss: 0.5440 - val_accuracy: 0.8647\n",
            "Epoch 32/100\n",
            "17600/17600 [==============================] - 49s 3ms/step - loss: 0.5137 - accuracy: 0.8780 - val_loss: 0.5376 - val_accuracy: 0.8677\n",
            "Epoch 33/100\n",
            "17600/17600 [==============================] - 49s 3ms/step - loss: 0.5077 - accuracy: 0.8794 - val_loss: 0.5305 - val_accuracy: 0.8678\n",
            "Epoch 34/100\n",
            "17600/17600 [==============================] - 49s 3ms/step - loss: 0.5026 - accuracy: 0.8806 - val_loss: 0.5292 - val_accuracy: 0.8655\n",
            "Epoch 35/100\n",
            "17600/17600 [==============================] - 49s 3ms/step - loss: 0.4968 - accuracy: 0.8815 - val_loss: 0.5186 - val_accuracy: 0.8710\n",
            "Epoch 36/100\n",
            "17600/17600 [==============================] - 49s 3ms/step - loss: 0.4910 - accuracy: 0.8824 - val_loss: 0.5156 - val_accuracy: 0.8710\n",
            "Epoch 37/100\n",
            "17600/17600 [==============================] - 49s 3ms/step - loss: 0.4853 - accuracy: 0.8845 - val_loss: 0.5081 - val_accuracy: 0.8733\n",
            "Epoch 38/100\n",
            "17600/17600 [==============================] - 49s 3ms/step - loss: 0.4807 - accuracy: 0.8854 - val_loss: 0.5027 - val_accuracy: 0.8735\n",
            "Epoch 39/100\n",
            "17600/17600 [==============================] - 49s 3ms/step - loss: 0.4763 - accuracy: 0.8864 - val_loss: 0.4977 - val_accuracy: 0.8737\n",
            "Epoch 40/100\n",
            "17600/17600 [==============================] - 49s 3ms/step - loss: 0.4710 - accuracy: 0.8888 - val_loss: 0.4927 - val_accuracy: 0.8762\n",
            "Epoch 41/100\n",
            "17600/17600 [==============================] - 49s 3ms/step - loss: 0.4671 - accuracy: 0.8887 - val_loss: 0.4883 - val_accuracy: 0.8758\n",
            "Epoch 42/100\n",
            "17600/17600 [==============================] - 49s 3ms/step - loss: 0.4621 - accuracy: 0.8890 - val_loss: 0.4848 - val_accuracy: 0.8796\n",
            "Epoch 43/100\n",
            "17600/17600 [==============================] - 50s 3ms/step - loss: 0.4579 - accuracy: 0.8908 - val_loss: 0.4804 - val_accuracy: 0.8807\n",
            "Epoch 44/100\n",
            "17600/17600 [==============================] - 49s 3ms/step - loss: 0.4539 - accuracy: 0.8926 - val_loss: 0.4766 - val_accuracy: 0.8814\n",
            "Epoch 45/100\n",
            "17600/17600 [==============================] - 49s 3ms/step - loss: 0.4499 - accuracy: 0.8930 - val_loss: 0.4722 - val_accuracy: 0.8820\n",
            "Epoch 46/100\n",
            "17600/17600 [==============================] - 49s 3ms/step - loss: 0.4464 - accuracy: 0.8940 - val_loss: 0.4683 - val_accuracy: 0.8841\n",
            "Epoch 47/100\n",
            "17600/17600 [==============================] - 50s 3ms/step - loss: 0.4421 - accuracy: 0.8959 - val_loss: 0.4669 - val_accuracy: 0.8833\n",
            "Epoch 48/100\n",
            "17600/17600 [==============================] - 50s 3ms/step - loss: 0.4398 - accuracy: 0.8953 - val_loss: 0.4615 - val_accuracy: 0.8861\n",
            "Epoch 49/100\n",
            "17600/17600 [==============================] - 50s 3ms/step - loss: 0.4361 - accuracy: 0.8973 - val_loss: 0.4582 - val_accuracy: 0.8865\n",
            "Epoch 50/100\n",
            "17600/17600 [==============================] - 49s 3ms/step - loss: 0.4318 - accuracy: 0.9001 - val_loss: 0.4549 - val_accuracy: 0.8852\n",
            "Epoch 51/100\n",
            "17600/17600 [==============================] - 49s 3ms/step - loss: 0.4296 - accuracy: 0.8986 - val_loss: 0.4523 - val_accuracy: 0.8888\n",
            "Epoch 52/100\n",
            "17600/17600 [==============================] - 49s 3ms/step - loss: 0.4265 - accuracy: 0.8985 - val_loss: 0.4482 - val_accuracy: 0.8872\n",
            "Epoch 53/100\n",
            "17600/17600 [==============================] - 49s 3ms/step - loss: 0.4229 - accuracy: 0.9001 - val_loss: 0.4460 - val_accuracy: 0.8886\n",
            "Epoch 54/100\n",
            "17600/17600 [==============================] - 49s 3ms/step - loss: 0.4202 - accuracy: 0.9013 - val_loss: 0.4421 - val_accuracy: 0.8902\n",
            "Epoch 55/100\n",
            "17600/17600 [==============================] - 50s 3ms/step - loss: 0.4175 - accuracy: 0.9039 - val_loss: 0.4392 - val_accuracy: 0.8917\n",
            "Epoch 56/100\n",
            "17600/17600 [==============================] - 49s 3ms/step - loss: 0.4151 - accuracy: 0.9024 - val_loss: 0.4368 - val_accuracy: 0.8916\n",
            "Epoch 57/100\n",
            "17600/17600 [==============================] - 49s 3ms/step - loss: 0.4116 - accuracy: 0.9045 - val_loss: 0.4337 - val_accuracy: 0.8927\n",
            "Epoch 58/100\n",
            "17600/17600 [==============================] - 49s 3ms/step - loss: 0.4095 - accuracy: 0.9056 - val_loss: 0.4315 - val_accuracy: 0.8931\n",
            "Epoch 59/100\n",
            "17600/17600 [==============================] - 49s 3ms/step - loss: 0.4059 - accuracy: 0.9072 - val_loss: 0.4283 - val_accuracy: 0.8946\n",
            "Epoch 60/100\n",
            "17600/17600 [==============================] - 49s 3ms/step - loss: 0.4040 - accuracy: 0.9073 - val_loss: 0.4267 - val_accuracy: 0.8943\n",
            "Epoch 61/100\n",
            "17600/17600 [==============================] - 49s 3ms/step - loss: 0.4016 - accuracy: 0.9075 - val_loss: 0.4237 - val_accuracy: 0.8951\n",
            "Epoch 62/100\n",
            "17600/17600 [==============================] - 50s 3ms/step - loss: 0.4001 - accuracy: 0.9071 - val_loss: 0.4212 - val_accuracy: 0.8961\n",
            "Epoch 63/100\n",
            "17600/17600 [==============================] - 49s 3ms/step - loss: 0.3972 - accuracy: 0.9075 - val_loss: 0.4189 - val_accuracy: 0.8962\n",
            "Epoch 64/100\n",
            "17600/17600 [==============================] - 49s 3ms/step - loss: 0.3948 - accuracy: 0.9098 - val_loss: 0.4170 - val_accuracy: 0.8984\n",
            "Epoch 65/100\n",
            "17600/17600 [==============================] - 49s 3ms/step - loss: 0.3924 - accuracy: 0.9090 - val_loss: 0.4147 - val_accuracy: 0.8987\n",
            "Epoch 66/100\n",
            "17600/17600 [==============================] - 49s 3ms/step - loss: 0.3905 - accuracy: 0.9097 - val_loss: 0.4129 - val_accuracy: 0.8975\n",
            "Epoch 67/100\n",
            "17600/17600 [==============================] - 49s 3ms/step - loss: 0.3893 - accuracy: 0.9092 - val_loss: 0.4102 - val_accuracy: 0.8996\n",
            "Epoch 68/100\n",
            "17600/17600 [==============================] - 49s 3ms/step - loss: 0.3871 - accuracy: 0.9111 - val_loss: 0.4091 - val_accuracy: 0.8984\n",
            "Epoch 69/100\n",
            "17600/17600 [==============================] - 49s 3ms/step - loss: 0.3843 - accuracy: 0.9110 - val_loss: 0.4060 - val_accuracy: 0.8991\n",
            "Epoch 70/100\n",
            "17600/17600 [==============================] - 49s 3ms/step - loss: 0.3830 - accuracy: 0.9119 - val_loss: 0.4046 - val_accuracy: 0.8996\n",
            "Epoch 71/100\n",
            "17600/17600 [==============================] - 49s 3ms/step - loss: 0.3808 - accuracy: 0.9131 - val_loss: 0.4042 - val_accuracy: 0.9003\n",
            "Epoch 72/100\n",
            "17600/17600 [==============================] - 49s 3ms/step - loss: 0.3792 - accuracy: 0.9125 - val_loss: 0.4004 - val_accuracy: 0.8998\n",
            "Epoch 73/100\n",
            "17600/17600 [==============================] - 49s 3ms/step - loss: 0.3778 - accuracy: 0.9122 - val_loss: 0.3984 - val_accuracy: 0.9010\n",
            "Epoch 74/100\n",
            "17600/17600 [==============================] - 50s 3ms/step - loss: 0.3751 - accuracy: 0.9133 - val_loss: 0.3983 - val_accuracy: 0.9007\n",
            "Epoch 75/100\n",
            "17600/17600 [==============================] - 49s 3ms/step - loss: 0.3735 - accuracy: 0.9140 - val_loss: 0.3951 - val_accuracy: 0.9017\n",
            "Epoch 76/100\n",
            "17600/17600 [==============================] - 49s 3ms/step - loss: 0.3732 - accuracy: 0.9134 - val_loss: 0.3935 - val_accuracy: 0.9021\n",
            "Epoch 77/100\n",
            "17600/17600 [==============================] - 49s 3ms/step - loss: 0.3702 - accuracy: 0.9149 - val_loss: 0.3921 - val_accuracy: 0.9040\n",
            "Epoch 78/100\n",
            "17600/17600 [==============================] - 49s 3ms/step - loss: 0.3693 - accuracy: 0.9153 - val_loss: 0.3900 - val_accuracy: 0.9028\n",
            "Epoch 79/100\n",
            "17600/17600 [==============================] - 49s 3ms/step - loss: 0.3667 - accuracy: 0.9164 - val_loss: 0.3881 - val_accuracy: 0.9031\n",
            "Epoch 80/100\n",
            "17600/17600 [==============================] - 49s 3ms/step - loss: 0.3659 - accuracy: 0.9159 - val_loss: 0.3867 - val_accuracy: 0.9032\n",
            "Epoch 81/100\n",
            "17600/17600 [==============================] - 49s 3ms/step - loss: 0.3640 - accuracy: 0.9151 - val_loss: 0.3850 - val_accuracy: 0.9040\n",
            "Epoch 82/100\n",
            "17600/17600 [==============================] - 48s 3ms/step - loss: 0.3623 - accuracy: 0.9166 - val_loss: 0.3836 - val_accuracy: 0.9028\n",
            "Epoch 83/100\n",
            "17600/17600 [==============================] - 49s 3ms/step - loss: 0.3609 - accuracy: 0.9170 - val_loss: 0.3817 - val_accuracy: 0.9041\n",
            "Epoch 84/100\n",
            "17600/17600 [==============================] - 49s 3ms/step - loss: 0.3599 - accuracy: 0.9174 - val_loss: 0.3811 - val_accuracy: 0.9051\n",
            "Epoch 85/100\n",
            "17600/17600 [==============================] - 49s 3ms/step - loss: 0.3574 - accuracy: 0.9172 - val_loss: 0.3798 - val_accuracy: 0.9060\n",
            "Epoch 86/100\n",
            "17600/17600 [==============================] - 49s 3ms/step - loss: 0.3561 - accuracy: 0.9175 - val_loss: 0.3778 - val_accuracy: 0.9055\n",
            "Epoch 87/100\n",
            "17600/17600 [==============================] - 50s 3ms/step - loss: 0.3554 - accuracy: 0.9175 - val_loss: 0.3762 - val_accuracy: 0.9048\n",
            "Epoch 88/100\n",
            "17600/17600 [==============================] - 49s 3ms/step - loss: 0.3538 - accuracy: 0.9180 - val_loss: 0.3758 - val_accuracy: 0.9043\n",
            "Epoch 89/100\n",
            "17600/17600 [==============================] - 49s 3ms/step - loss: 0.3527 - accuracy: 0.9189 - val_loss: 0.3739 - val_accuracy: 0.9060\n",
            "Epoch 90/100\n",
            "17600/17600 [==============================] - 49s 3ms/step - loss: 0.3516 - accuracy: 0.9193 - val_loss: 0.3726 - val_accuracy: 0.9062\n",
            "Epoch 91/100\n",
            "17600/17600 [==============================] - 49s 3ms/step - loss: 0.3504 - accuracy: 0.9187 - val_loss: 0.3718 - val_accuracy: 0.9090\n",
            "Epoch 92/100\n",
            "17600/17600 [==============================] - 49s 3ms/step - loss: 0.3486 - accuracy: 0.9197 - val_loss: 0.3695 - val_accuracy: 0.9078\n",
            "Epoch 93/100\n",
            "17600/17600 [==============================] - 50s 3ms/step - loss: 0.3473 - accuracy: 0.9211 - val_loss: 0.3690 - val_accuracy: 0.9076\n",
            "Epoch 94/100\n",
            "17600/17600 [==============================] - 49s 3ms/step - loss: 0.3467 - accuracy: 0.9193 - val_loss: 0.3668 - val_accuracy: 0.9080\n",
            "Epoch 95/100\n",
            "17600/17600 [==============================] - 49s 3ms/step - loss: 0.3452 - accuracy: 0.9197 - val_loss: 0.3667 - val_accuracy: 0.9065\n",
            "Epoch 96/100\n",
            "17600/17600 [==============================] - 49s 3ms/step - loss: 0.3444 - accuracy: 0.9215 - val_loss: 0.3647 - val_accuracy: 0.9089\n",
            "Epoch 97/100\n",
            "17600/17600 [==============================] - 50s 3ms/step - loss: 0.3433 - accuracy: 0.9195 - val_loss: 0.3633 - val_accuracy: 0.9084\n",
            "Epoch 98/100\n",
            "17600/17600 [==============================] - 50s 3ms/step - loss: 0.3413 - accuracy: 0.9210 - val_loss: 0.3624 - val_accuracy: 0.9094\n",
            "Epoch 99/100\n",
            "17600/17600 [==============================] - 50s 3ms/step - loss: 0.3411 - accuracy: 0.9204 - val_loss: 0.3614 - val_accuracy: 0.9088\n",
            "Epoch 100/100\n",
            "17600/17600 [==============================] - 50s 3ms/step - loss: 0.3399 - accuracy: 0.9209 - val_loss: 0.3604 - val_accuracy: 0.9104\n"
          ],
          "name": "stdout"
        }
      ]
    },
    {
      "cell_type": "code",
      "metadata": {
        "id": "FqJtxB9wOrvc",
        "colab_type": "code",
        "outputId": "afe52884-3283-41c5-84e0-09f7448716aa",
        "colab": {
          "base_uri": "https://localhost:8080/",
          "height": 545
        }
      },
      "source": [
        "import matplotlib.pyplot as plt\n",
        "\n",
        "acc = history.history['accuracy']\n",
        "val_acc = history.history['val_accuracy']\n",
        "loss = history.history['loss']\n",
        "val_loss = history.history['val_loss']\n",
        "\n",
        "epochs = range(len(acc))\n",
        "\n",
        "plt.plot(epochs, acc, 'bo', label=\"Training acc\")\n",
        "plt.plot(epochs, val_acc, 'b', label=\"Validation acc\")\n",
        "plt.title('Training and Validation accuracy')\n",
        "plt.legend()\n",
        "\n",
        "plt.figure()\n",
        "\n",
        "plt.plot(epochs, loss, 'bo', label=\"Training loss\")\n",
        "plt.plot(epochs, val_loss, 'b', label=\"Validation loss\")\n",
        "plt.title(\"Training and Validation loss\")\n",
        "plt.legend()\n",
        "\n",
        "plt.show()"
      ],
      "execution_count": 0,
      "outputs": [
        {
          "output_type": "display_data",
          "data": {
            "image/png": "[encoded data removed]",
            "text/plain": [
              "<Figure size 432x288 with 1 Axes>"
            ]
          },
          "metadata": {
            "tags": [],
            "needs_background": "light"
          }
        },
        {
          "output_type": "display_data",
          "data": {
            "image/png": "[encoded data removed]",
            "text/plain": [
              "<Figure size 432x288 with 1 Axes>"
            ]
          },
          "metadata": {
            "tags": [],
            "needs_background": "light"
          }
        }
      ]
    },
    {
      "cell_type": "code",
      "metadata": {
        "id": "jNyA_1SzCXa8",
        "colab_type": "code",
        "outputId": "97173eab-dbc7-4b2e-971a-ecb46c6f3e84",
        "colab": {
          "base_uri": "https://localhost:8080/",
          "height": 52
        }
      },
      "source": [
        "loss_and_metrics = model.evaluate(x=X_test[:test_size,:,:], y=y_test_one_hot[:test_size,:], batch_size=batch_size)\n",
        "\n",
        "print(loss_and_metrics)"
      ],
      "execution_count": 0,
      "outputs": [
        {
          "output_type": "stream",
          "text": [
            "2752/2752 [==============================] - 2s 686us/step\n",
            "[1.1734207428471988, 0.6348110437393188]\n"
          ],
          "name": "stdout"
        }
      ]
    },
    {
      "cell_type": "code",
      "metadata": {
        "id": "owA8_UcnBhcH",
        "colab_type": "code",
        "colab": {}
      },
      "source": [
        "X_test.shape"
      ],
      "execution_count": 0,
      "outputs": []
    },
    {
      "cell_type": "code",
      "metadata": {
        "id": "Pay5ETnGRXcd",
        "colab_type": "code",
        "colab": {}
      },
      "source": [
        "model_json = model.to_json()\n",
        "with open(\"/content/drive/My Drive/Capstone/model/SLT-model-101-68.json\", \"w\") as json_file:\n",
        "    json_file.write(model_json)\n",
        "\n",
        "model.save_weights(\"/content/drive/My Drive/Capstone/model/SLT-model-101-68.h5\")"
      ],
      "execution_count": 0,
      "outputs": []
    },
    {
      "cell_type": "code",
      "metadata": {
        "id": "8rh4mUxIUR-g",
        "colab_type": "code",
        "colab": {}
      },
      "source": [
        ""
      ],
      "execution_count": 0,
      "outputs": []
    }
  ]
}